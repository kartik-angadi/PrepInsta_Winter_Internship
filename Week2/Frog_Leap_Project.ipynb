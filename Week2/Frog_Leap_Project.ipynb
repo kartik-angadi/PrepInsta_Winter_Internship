{
  "nbformat": 4,
  "nbformat_minor": 0,
  "metadata": {
    "colab": {
      "provenance": []
    },
    "kernelspec": {
      "name": "python3",
      "display_name": "Python 3"
    },
    "language_info": {
      "name": "python"
    }
  },
  "cells": [
    {
      "cell_type": "markdown",
      "source": [
        "# Problem statement\n",
        "\n",
        "Create famous 'Frog leap' puzzle game. Try completing the game before starting to get an idea about its working.\n",
        "[Demonstration](https://www.neok12.com/games/leap-froggies/leap-froggies.htm).\n",
        "\n",
        "\n",
        "### Rules ###\n",
        "1. The left set of frogs can only move right, the right set of frogs can only move left.\n",
        "2. Frogs can move forward one space, or move two spaces by jumping over another frog from opposite side.\n",
        "3. The puzzle is solved when the two sets of frogs have switched positions.\n",
        "\n",
        "\n",
        "## Steps to solve the problem:\n",
        "### Step1:-\n",
        "- Display green and brown frogs on the left and right sides initially.\n",
        "\n",
        "Initial Display :-  \n",
        "```\n",
        "[ 0 ,  1 ,  2 ,  3 ,  4 ,  5 ,  6 ]\n",
        "['G', 'G', 'G', '-', 'B', 'B', 'B']\n",
        "```\n",
        "<br>\n",
        "Here 'G' represents Green frogs on the left side and 'B' represents brown frogs on the right side. The '-' defines the position of empty leaf.\n",
        "(You can change display according to your imagination or convinience)\n",
        "\n",
        "### Step2:-\n",
        "Accept positions of the frog that you want to move.<br>\n",
        "Example: If we enter position 2 then the game will look like this:-\n",
        "```\n",
        "[ 0 ,  1 ,  2 ,  3 ,  4 ,  5 ,  6 ]\n",
        "['G', 'G', '-', 'G', 'B', 'B', 'B']\n",
        "```\n",
        "\n",
        "### Step3:- ###\n",
        "Define Invalid moves and add conditional 'if' statements accordingly\n",
        "#### Rules\n",
        "1. Entered position should be between 0 to 6. Or a character 'q' to quit the game.\n",
        "2. Entered position cannot be the position of empty leaf.\n",
        "3. If the selected frog position cannot perform the contraints given in rule 2 then the move is invalid.\n",
        "\n",
        "### Step4:-\n",
        "Make the appropriate move by changing the game display."
      ],
      "metadata": {
        "id": "fxZte1ZuP3yr"
      }
    },
    {
      "cell_type": "markdown",
      "source": [
        "## Step 1\n",
        "First create a list `positions` which contains the characters 'G','B' and '-' in the same sequence as given in the initial display state."
      ],
      "metadata": {
        "id": "-viYJbAFQXcJ"
      }
    },
    {
      "cell_type": "code",
      "execution_count": null,
      "metadata": {
        "id": "fSvLBrjwP0sr",
        "colab": {
          "base_uri": "https://localhost:8080/"
        },
        "outputId": "a55ff3d5-4e64-4814-97c2-07c77c2381c4"
      },
      "outputs": [
        {
          "output_type": "stream",
          "name": "stdout",
          "text": [
            "['G', 'G', 'G', '-', 'B', 'B', 'B']\n"
          ]
        }
      ],
      "source": [
        "### your code here\n",
        "\n",
        "Positions = ['G', 'G', 'G', '-', 'B', 'B', 'B']\n",
        "print(Positions)"
      ]
    },
    {
      "cell_type": "markdown",
      "source": [
        "Now print this string ```[ 0 ,  1 ,  2 ,  3 ,  4 ,  5 ,  6 ]``` and after that print the list `positions`"
      ],
      "metadata": {
        "id": "unr1AJLSQj_4"
      }
    },
    {
      "cell_type": "code",
      "source": [
        "### your code here\n",
        "\n",
        "print(\"!! Enter values less than 7 !!\")\n",
        "print(\"[ 0 ,  1 ,  2 ,  3 ,  4 ,  5 ,  6 ]\")\n",
        "print(Positions)"
      ],
      "metadata": {
        "id": "qqKLcfEmQgiZ",
        "colab": {
          "base_uri": "https://localhost:8080/"
        },
        "outputId": "f4012ac2-766b-41c7-f76e-41941279236d"
      },
      "execution_count": null,
      "outputs": [
        {
          "output_type": "stream",
          "name": "stdout",
          "text": [
            "!! Enter values less than 7 !!\n",
            "[ 0 ,  1 ,  2 ,  3 ,  4 ,  5 ,  6 ]\n",
            "['G', 'G', 'G', '-', 'B', 'B', 'B']\n"
          ]
        }
      ]
    },
    {
      "cell_type": "markdown",
      "source": [
        "Take position input from user and write a message as `\"Press q to quit else \\nEnter position of piece:\"`."
      ],
      "metadata": {
        "id": "DuEVsgtjQqXV"
      }
    },
    {
      "cell_type": "code",
      "source": [
        "### your code here\n",
        "\n",
        "position = input(\"Press q to quit \\n Enter position of piece: \")"
      ],
      "metadata": {
        "id": "nPz65EKXQnDR",
        "colab": {
          "base_uri": "https://localhost:8080/"
        },
        "outputId": "6dafea44-6ab9-4f48-cf48-eaaf55ff8de0"
      },
      "execution_count": null,
      "outputs": [
        {
          "name": "stdout",
          "output_type": "stream",
          "text": [
            "Press q to quit \n",
            " Enter position of piece: 2\n"
          ]
        }
      ]
    },
    {
      "cell_type": "markdown",
      "source": [
        "Now the taken input is in string format. So first check if the input is `'q'` character. If input is `'q'` then the person is quiting the game so print `'You Lose'`."
      ],
      "metadata": {
        "id": "ejy_x_eTRJmT"
      }
    },
    {
      "cell_type": "code",
      "source": [
        "### your code here\n",
        "\n",
        "if position == 'q':\n",
        "  print(\"You Lose\")"
      ],
      "metadata": {
        "id": "1OrsC7P9QxO6"
      },
      "execution_count": null,
      "outputs": []
    },
    {
      "cell_type": "markdown",
      "source": [
        "Next if input character is not `'q'` then it has to be some integer. so convert input to integer format."
      ],
      "metadata": {
        "id": "yZJeDTGlRSMe"
      }
    },
    {
      "cell_type": "code",
      "source": [
        "### your code here\n",
        "position = int(input())"
      ],
      "metadata": {
        "id": "PWZj_Js6RP2G",
        "colab": {
          "base_uri": "https://localhost:8080/"
        },
        "outputId": "10b1681a-da80-4005-ee10-36444ee8f298"
      },
      "execution_count": null,
      "outputs": [
        {
          "name": "stdout",
          "output_type": "stream",
          "text": [
            "2\n"
          ]
        }
      ]
    },
    {
      "cell_type": "markdown",
      "source": [
        "## Step 2\n",
        "Now we have to check validity of the selected positions or move.<br>\n",
        "If the entered number isn't between 0 and 6, then print 'Invalid move'."
      ],
      "metadata": {
        "id": "SyCzN-cYRXZa"
      }
    },
    {
      "cell_type": "code",
      "source": [
        "### your code here\n",
        "\n",
        "if position < 0 or 6 < position:\n",
        "  print(\"Invalid Move\")"
      ],
      "metadata": {
        "id": "8_edLqe2RU8S"
      },
      "execution_count": null,
      "outputs": []
    },
    {
      "cell_type": "markdown",
      "source": [
        "A frog should be present on the selected position to make a move. If leaf is selected then it doesn't make sense. Therefore, if entered postition is same as the postition of empty leaf then the move is invalid and print `Invalid Move`"
      ],
      "metadata": {
        "id": "Va03g0l5Rlkx"
      }
    },
    {
      "cell_type": "code",
      "source": [
        "### your code here\n",
        "\n",
        "if Positions[position] == '_':\n",
        "  print(\"Invalid Move\")\n"
      ],
      "metadata": {
        "id": "uM2-D1xGRiH4"
      },
      "execution_count": null,
      "outputs": []
    },
    {
      "cell_type": "markdown",
      "source": [
        "Initialize a variable named `pos2` at value 0, to store the index of empty leaf, so that we can use it later."
      ],
      "metadata": {
        "id": "cp5q2ahQTnwI"
      }
    },
    {
      "cell_type": "code",
      "source": [
        "### your code here\n",
        "position2 = 0"
      ],
      "metadata": {
        "id": "1SkBYDnaTpiV"
      },
      "execution_count": null,
      "outputs": []
    },
    {
      "cell_type": "markdown",
      "source": [
        "```   \n",
        "    Check if the selected frog is 'G':\n",
        "  \n",
        "        (Inside if when it's 'G'. As 'G' is selected frog can move to right only.)\n",
        "        \n",
        "        ❗condition 1\n",
        "\n",
        "        If **selected_position + 1** is less than or equal to 6 and **curent_position + 1** contains '-'\n",
        "        then it's a valid move and store that postion in `pos2`.\n",
        "        \n",
        "        ❗condition2\n",
        "\n",
        "        Else if **selected_position + 2** is less than or equal to 6 and if **current_position + 2**\n",
        "        contains '-' and if **selected_position + 1** contains 'B' then it's a valid move  and store that postion in `pos2`.\n",
        "        \n",
        "        ❗condition3:\n",
        "\n",
        "        Else remainig all are invalid, so print `Invalid Move`\n",
        "      \n",
        "```"
      ],
      "metadata": {
        "id": "V9UFD623R3Oa"
      }
    },
    {
      "cell_type": "code",
      "source": [
        "### your code here\n",
        "\n",
        "if Positions[position] == 'G':\n",
        "        if (position + 1) <= 6 and Positions[position + 1] == '-':\n",
        "            position2 =(position +1)\n",
        "        elif (position + 2) <= 6 and Positions[position + 2] == '-' and Positions[position + 1] == 'B':\n",
        "            position2 =(position+2)\n",
        "        else:\n",
        "            print(\"Invalid move\")\n"
      ],
      "metadata": {
        "id": "IDHxpibURriq"
      },
      "execution_count": null,
      "outputs": []
    },
    {
      "cell_type": "markdown",
      "source": [
        "```\n",
        "    Check if the selected frog is 'B':\n",
        "    \n",
        "        (Inside if when it's 'B'. As 'B' is selected frog can move to left only.)\n",
        "        \n",
        "        ❗condition1:\n",
        "\n",
        "        If **selected_position - 1** is more than or equal to 0 and **curent_position - 1** contains '-' then\n",
        "        it's a valid move and and store that postion in `pos2`.\n",
        "        \n",
        "        ❗condition2:\n",
        "\n",
        "        Else if **selected_position - 2** is more than or equal to 0 and if **current_position - 2** contains '-'\n",
        "        and if **selected_position - 1** contains 'G' then it's a valid move and and store that postion in `pos2`.\n",
        "\n",
        "        ❗condition3:\n",
        "        \n",
        "        Else remainig all are invalid,, so print `Invalid Move`.\n",
        "        \n",
        "```"
      ],
      "metadata": {
        "id": "DyQX5nUsTZPF"
      }
    },
    {
      "cell_type": "code",
      "source": [
        "### your code here\n",
        "if Positions[position] == 'B':\n",
        "        if (position - 1) >= 0 and Positions[position - 1] == '-':\n",
        "            position2 = (position - 1)\n",
        "        elif (position - 2) >= 0 and Positions[position - 2] == '-' and Positions[position - 1] == 'G':\n",
        "            position2 = (position - 2)\n",
        "        else:\n",
        "            print(\"Invalid move\")\n",
        "\n",
        "\n"
      ],
      "metadata": {
        "id": "cQ2G3ZO_TWU5"
      },
      "execution_count": null,
      "outputs": []
    },
    {
      "cell_type": "markdown",
      "source": [
        "Swap the element at selected positions and calculated position2 in the list.<br> So basically we are moving the frog to next valid position by swapping elelments of array."
      ],
      "metadata": {
        "id": "Vads2oztUd4g"
      }
    },
    {
      "cell_type": "code",
      "source": [
        "### your code here\n",
        "Positions[position], Positions[position2] = Positions[position2], Positions[position]\n",
        "print(Positions)"
      ],
      "metadata": {
        "id": "jXOGtww7UeYQ",
        "colab": {
          "base_uri": "https://localhost:8080/"
        },
        "outputId": "1ce0c8a0-62f3-49cc-a3a9-b1a3f047717e"
      },
      "execution_count": null,
      "outputs": [
        {
          "output_type": "stream",
          "name": "stdout",
          "text": [
            "['G', 'G', '-', 'G', 'B', 'B', 'B']\n"
          ]
        }
      ]
    },
    {
      "cell_type": "markdown",
      "source": [
        "Now print the display of the game again to see the change.<br>\n",
        "If we enter position 2 then the output will look like this:-\n",
        "```\n",
        "[ 0 ,  1 ,  2 ,  3 ,  4 ,  5 ,  6 ]\n",
        "['G', 'G', '-', 'G', 'B', 'B', 'B']\n",
        "```"
      ],
      "metadata": {
        "id": "8qF4Q2HsUlZ4"
      }
    },
    {
      "cell_type": "code",
      "source": [
        "### your code here\n",
        "print(\"[ 0 ,  1 ,  2 ,  3 ,  4 ,  5 ,  6 ]\")\n",
        "print(Positions)"
      ],
      "metadata": {
        "id": "0S3oNzG3UifK",
        "colab": {
          "base_uri": "https://localhost:8080/"
        },
        "outputId": "d8937480-1c50-43e9-9606-3dcef06735ed"
      },
      "execution_count": null,
      "outputs": [
        {
          "output_type": "stream",
          "name": "stdout",
          "text": [
            "[ 0 ,  1 ,  2 ,  3 ,  4 ,  5 ,  6 ]\n",
            "['G', 'G', '-', 'G', 'B', 'B', 'B']\n"
          ]
        }
      ]
    },
    {
      "cell_type": "markdown",
      "source": [
        "Check for winning condition by comparing the elements of list. If player has won the game print `'You Win'`"
      ],
      "metadata": {
        "id": "EILVGu48UsH-"
      }
    },
    {
      "cell_type": "code",
      "source": [
        "### your code here\n",
        "if Positions == ['B','B','B','-','G','G','G']:\n",
        "        print(\"YOU WIN\")"
      ],
      "metadata": {
        "id": "GYkZdiA6Uote"
      },
      "execution_count": null,
      "outputs": []
    },
    {
      "cell_type": "markdown",
      "source": [
        "Now the game should keep running until the player quits, so place all conditional statements inside an infinite loop.<br>\n",
        "\n",
        "1. We have to `'break'` the loop if the player presses `'q'` and quits.\n",
        "\n",
        "2. If the move made by player is `'Invalid Move'` then we have to `'continue'` without executing remaining part of the selected iteration.\n",
        "\n",
        "3. If player wins the game we have to `break` the loop.\n",
        "\n",
        "\n",
        "```\n",
        "Infinite loop:\n",
        "    (inside loop)\n",
        "    1.Take input\n",
        "    2.Check all valid and invalid conditions of `pos`.\n",
        "    3.Make the appropriate move by calculating `pos2`.\n",
        "    4.Display game\n",
        "    4.Check winning condition\n",
        "```"
      ],
      "metadata": {
        "id": "a2a0HHjiUyQ8"
      }
    },
    {
      "cell_type": "code",
      "source": [
        "### your code here\n",
        "Positions = list(['G','G','G','-','B','B','B'])\n",
        "print(\"!! Enter values less that 7 !!\")\n",
        "print(\"[ 0 ,  1 ,  2 ,  3 ,  4 ,  5 ,  6 ]\")\n",
        "print(Positions)\n",
        "\n",
        "while True:\n",
        "    position = input(\"Press q to quit else \\nEnter position of piece:\")\n",
        "    if position == 'q':\n",
        "        print(\"YOU LOSE!!\")\n",
        "        break\n",
        "    position = int(position)\n",
        "\n",
        "    if position<0 or 6<position:\n",
        "        print(\"Invalid move\")\n",
        "        continue\n",
        "    if Positions[position] == '-':\n",
        "        print(\"Invalid move\")\n",
        "        continue\n",
        "\n",
        "    if Positions[position] == 'G':\n",
        "        if (position + 1) <= 6 and Positions[position + 1] == '-':\n",
        "            pass\n",
        "        elif (position + 2) <= 6 and Positions[position + 2] == '-' and Positions[position + 1] == 'B':\n",
        "            pass\n",
        "        else:\n",
        "            print(\"Invalid move\")\n",
        "            break\n",
        "    if Positions[position] == 'B':\n",
        "        if (position - 1) >= 0 and Positions[position - 1] == '-':\n",
        "            pass\n",
        "        elif (position - 2) >= 0 and Positions[position - 2] == '-' and Positions[position - 1] == 'G':\n",
        "            pass\n",
        "        else:\n",
        "            print(\"Invalid move\")\n",
        "\n",
        "    position2 = 0\n",
        "    if Positions[position] == 'G':\n",
        "        if Positions[position + 1] == '-':\n",
        "            position2 = (position+1)\n",
        "        elif Positions[position + 2] == '-':\n",
        "            position2 = (position+2)\n",
        "    if Positions[position] == 'B':\n",
        "        if Positions[position - 1] == '-':\n",
        "            position2 = (position-1)\n",
        "        elif Positions[position - 2] == '-':\n",
        "            position2 = (position-2)\n",
        "    Positions[position], Positions[position2] = Positions[position2], Positions[position]\n",
        "\n",
        "    print(\"[ 0 ,  1 ,  2 ,  3 ,  4 ,  5 ,  6 ]\")\n",
        "    print(Positions)\n",
        "\n",
        "    if Positions == ['B','B','B','-','G','G','G']:\n",
        "        print(\"YOU WIN\")\n",
        "        break"
      ],
      "metadata": {
        "colab": {
          "base_uri": "https://localhost:8080/"
        },
        "id": "J7n_pFXTzWF3",
        "outputId": "dfbbc3a4-2d43-44fd-fd18-b47a375f24c7"
      },
      "execution_count": null,
      "outputs": [
        {
          "output_type": "stream",
          "name": "stdout",
          "text": [
            "!! Enter values less that 7 !!\n",
            "[ 0 ,  1 ,  2 ,  3 ,  4 ,  5 ,  6 ]\n",
            "['G', 'G', 'G', '-', 'B', 'B', 'B']\n",
            "Press q to quit else \n",
            "Enter position of piece:2\n",
            "[ 0 ,  1 ,  2 ,  3 ,  4 ,  5 ,  6 ]\n",
            "['G', 'G', '-', 'G', 'B', 'B', 'B']\n",
            "Press q to quit else \n",
            "Enter position of piece:4\n",
            "[ 0 ,  1 ,  2 ,  3 ,  4 ,  5 ,  6 ]\n",
            "['G', 'G', 'B', 'G', '-', 'B', 'B']\n",
            "Press q to quit else \n",
            "Enter position of piece:3\n",
            "[ 0 ,  1 ,  2 ,  3 ,  4 ,  5 ,  6 ]\n",
            "['G', 'G', 'B', '-', 'G', 'B', 'B']\n",
            "Press q to quit else \n",
            "Enter position of piece:1\n",
            "[ 0 ,  1 ,  2 ,  3 ,  4 ,  5 ,  6 ]\n",
            "['G', '-', 'B', 'G', 'G', 'B', 'B']\n",
            "Press q to quit else \n",
            "Enter position of piece:2\n",
            "[ 0 ,  1 ,  2 ,  3 ,  4 ,  5 ,  6 ]\n",
            "['G', 'B', '-', 'G', 'G', 'B', 'B']\n",
            "Press q to quit else \n",
            "Enter position of piece:4\n",
            "Invalid move\n"
          ]
        }
      ]
    }
  ]
}